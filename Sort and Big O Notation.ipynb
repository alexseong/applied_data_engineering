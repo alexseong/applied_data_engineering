{
 "cells": [
  {
   "cell_type": "markdown",
   "metadata": {},
   "source": [
    "## Sort"
   ]
  },
  {
   "cell_type": "code",
   "execution_count": 22,
   "metadata": {},
   "outputs": [],
   "source": [
    "def fact1(n):\n",
    "    product = 1\n",
    "    \n",
    "    for i in range(n):\n",
    "        product *= i + 1\n",
    "    \n",
    "    return product\n",
    "#O(n)\n",
    "\n",
    "def fact2(n):\n",
    "    if n == 0:\n",
    "        return 1\n",
    "    else:\n",
    "        return n * fact2(n-1)\n",
    "#O(2n)"
   ]
  },
  {
   "cell_type": "code",
   "execution_count": 19,
   "metadata": {},
   "outputs": [
    {
     "name": "stdout",
     "output_type": "stream",
     "text": [
      "1\n",
      "2\n",
      "6\n",
      "24\n",
      "120\n",
      "720\n",
      "5040\n",
      "40320\n",
      "362880\n",
      "3628800\n"
     ]
    }
   ],
   "source": [
    "n = 10\n",
    "for i in range(1, n+1):\n",
    "    print(fact2(i))"
   ]
  },
  {
   "cell_type": "code",
   "execution_count": 29,
   "metadata": {},
   "outputs": [
    {
     "name": "stdout",
     "output_type": "stream",
     "text": [
      "518 ns ± 4.06 ns per loop (mean ± std. dev. of 7 runs, 1000000 loops each)\n",
      "581 ns ± 5.01 ns per loop (mean ± std. dev. of 7 runs, 1000000 loops each)\n"
     ]
    }
   ],
   "source": [
    "%timeit fact1(4)\n",
    "%timeit fact2(4)"
   ]
  },
  {
   "cell_type": "markdown",
   "metadata": {},
   "source": [
    "### Bubble Sort"
   ]
  },
  {
   "cell_type": "code",
   "execution_count": 34,
   "metadata": {},
   "outputs": [],
   "source": [
    "def bubbleSort(arr):\n",
    "    n = len(arr)\n",
    " \n",
    "    # Traverse through all array elements\n",
    "    for i in range(n):\n",
    " \n",
    "        # Last i elements are already in place\n",
    "        for j in range(0, n-i-1):\n",
    " \n",
    "            # traverse the array from 0 to n-i-1\n",
    "            # Swap if the element found is greater\n",
    "            # than the next element\n",
    "            if arr[j] > arr[j+1] :\n",
    "                arr[j], arr[j+1] = arr[j+1], arr[j]\n",
    "    \n",
    "    return arr\n",
    "# O(n^2) Quadratic"
   ]
  },
  {
   "cell_type": "markdown",
   "metadata": {},
   "source": [
    "### Selection Sort"
   ]
  },
  {
   "cell_type": "code",
   "execution_count": 35,
   "metadata": {},
   "outputs": [],
   "source": [
    "def swap(list_vals, min_val_index, i):                                          \n",
    "    temp = list_vals[min_val_index];                                            \n",
    "    list_vals[min_val_index] = list_vals[i];                                    \n",
    "    list_vals[i] = temp;                                                        \n",
    "                                                                                \n",
    "def selection_sort(list_vals):                                                  \n",
    "    num_of_elements = len(list_vals);                                           \n",
    "                                                                                \n",
    "    #  reduces the each inner iteration loop size by one.                       \n",
    "    for i in range(0, num_of_elements-1):                                       \n",
    "        # position of minimum element in the list                               \n",
    "        # Assuming first element to be the minimum                              \n",
    "        min_val_index = i;                                                      \n",
    "        # finds minimum value position in the list of elements.                 \n",
    "        for j in range(i+1, num_of_elements):                                   \n",
    "            if (list_vals[j] < list_vals[min_val_index]):                       \n",
    "                min_val_index = j;                                              \n",
    "                                                                                \n",
    "        swap(list_vals, min_val_index, i);                                      \n",
    "                                                                                \n",
    "    return list_vals;   \n",
    "# O(n^2) Quadratic"
   ]
  },
  {
   "cell_type": "code",
   "execution_count": 46,
   "metadata": {},
   "outputs": [
    {
     "name": "stdout",
     "output_type": "stream",
     "text": [
      "Collection before sorting: [30, 10, 20, 70, 60, 80, 50, 40, 30, 10, 20, 70, 60, 80, 50, 40]\n",
      "Bubble Sorted list elements: [10, 10, 20, 20, 30, 30, 40, 40, 50, 50, 60, 60, 70, 70, 80, 80]\n",
      "Selection Sorted list elements: [10, 10, 20, 20, 30, 30, 40, 40, 50, 50, 60, 60, 70, 70, 80, 80]\n",
      "Insersion Sorted list elements: [10, 10, 20, 20, 30, 30, 40, 40, 50, 50, 60, 60, 70, 70, 80, 80]\n",
      "Heap Sorted list elements: [10, 10, 20, 20, 30, 30, 40, 40, 50, 50, 60, 60, 70, 70, 80, 80]\n"
     ]
    }
   ],
   "source": [
    "list_vals = [30, 10, 20, 70, 60, 80, 50, 40]+[30, 10, 20, 70, 60, 80, 50, 40]                              \n",
    "print(\"Collection before sorting: %s\" % str(list_vals));    \n",
    "print(\"Bubble Sorted list elements: %s\" % str(bubbleSort(list_vals)));  \n",
    "print(\"Selection Sorted list elements: %s\" % str(selection_sort(list_vals)));  \n",
    "print(\"Insersion Sorted list elements: %s\" % str(insertionSort(list_vals)));  \n",
    "print(\"Heap Sorted list elements: %s\" % str(heapSort(list_vals)));  "
   ]
  },
  {
   "cell_type": "markdown",
   "metadata": {},
   "source": [
    "### Insersion Sort"
   ]
  },
  {
   "cell_type": "code",
   "execution_count": 38,
   "metadata": {},
   "outputs": [],
   "source": [
    "def insertionSort(arr): \n",
    "  \n",
    "    # Traverse through 1 to len(arr) \n",
    "    for i in range(1, len(arr)): \n",
    "  \n",
    "        key = arr[i] \n",
    "  \n",
    "        # Move elements of arr[0..i-1], that are \n",
    "        # greater than key, to one position ahead \n",
    "        # of their current position \n",
    "        j = i-1\n",
    "        while j >=0 and key < arr[j] : \n",
    "                arr[j+1] = arr[j] \n",
    "                j -= 1\n",
    "        arr[j+1] = key \n",
    "    \n",
    "    return arr"
   ]
  },
  {
   "cell_type": "markdown",
   "metadata": {},
   "source": [
    "### Heap Sort"
   ]
  },
  {
   "cell_type": "code",
   "execution_count": 41,
   "metadata": {},
   "outputs": [],
   "source": [
    "def heapify(arr, n, i): \n",
    "    largest = i  # Initialize largest as root \n",
    "    l = 2 * i + 1     # left = 2*i + 1 \n",
    "    r = 2 * i + 2     # right = 2*i + 2 \n",
    "  \n",
    "    # See if left child of root exists and is \n",
    "    # greater than root \n",
    "    if l < n and arr[i] < arr[l]: \n",
    "        largest = l \n",
    "  \n",
    "    # See if right child of root exists and is \n",
    "    # greater than root \n",
    "    if r < n and arr[largest] < arr[r]: \n",
    "        largest = r \n",
    "  \n",
    "    # Change root, if needed \n",
    "    if largest != i: \n",
    "        arr[i],arr[largest] = arr[largest],arr[i]  # swap \n",
    "  \n",
    "        # Heapify the root. \n",
    "        heapify(arr, n, largest) \n",
    "  \n",
    "# The main function to sort an array of given size \n",
    "def heapSort(arr): \n",
    "    n = len(arr) \n",
    "  \n",
    "    # Build a maxheap. \n",
    "    for i in range(n, -1, -1): \n",
    "        heapify(arr, n, i) \n",
    "  \n",
    "    # One by one extract elements \n",
    "    for i in range(n-1, 0, -1): \n",
    "        arr[i], arr[0] = arr[0], arr[i]   # swap \n",
    "        heapify(arr, i, 0) \n",
    "        \n",
    "    return arr"
   ]
  },
  {
   "cell_type": "code",
   "execution_count": 47,
   "metadata": {},
   "outputs": [
    {
     "name": "stdout",
     "output_type": "stream",
     "text": [
      "15.3 µs ± 353 ns per loop (mean ± std. dev. of 7 runs, 100000 loops each)\n",
      "16.2 µs ± 144 ns per loop (mean ± std. dev. of 7 runs, 100000 loops each)\n",
      "2.95 µs ± 11.9 ns per loop (mean ± std. dev. of 7 runs, 100000 loops each)\n",
      "30.2 µs ± 131 ns per loop (mean ± std. dev. of 7 runs, 10000 loops each)\n"
     ]
    }
   ],
   "source": [
    "%timeit bubbleSort(list_vals)\n",
    "%timeit selection_sort(list_vals)\n",
    "%timeit insertionSort(list_vals)\n",
    "%timeit heapSort(list_vals)"
   ]
  },
  {
   "cell_type": "code",
   "execution_count": null,
   "metadata": {},
   "outputs": [],
   "source": []
  }
 ],
 "metadata": {
  "kernelspec": {
   "display_name": "Python 3",
   "language": "python",
   "name": "python3"
  },
  "language_info": {
   "codemirror_mode": {
    "name": "ipython",
    "version": 3
   },
   "file_extension": ".py",
   "mimetype": "text/x-python",
   "name": "python",
   "nbconvert_exporter": "python",
   "pygments_lexer": "ipython3",
   "version": "3.7.5"
  }
 },
 "nbformat": 4,
 "nbformat_minor": 2
}
